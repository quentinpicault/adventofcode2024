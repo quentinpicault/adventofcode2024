{
 "cells": [
  {
   "cell_type": "code",
   "execution_count": 1,
   "metadata": {},
   "outputs": [
    {
     "name": "stdout",
     "output_type": "stream",
     "text": [
      "1151792\n"
     ]
    }
   ],
   "source": [
    "import file from \"./1.json\" with { type: \"json\" };\n",
    "import * as _ from 'https://deno.land/x/lodash@4.17.15-es/lodash.js';\n",
    "\n",
    "const data = file.data\n",
    "const left = data.map(t => t[0])\n",
    "const right = data.map(t => t[1])\n",
    "const sortedLeft = _.sortBy(left, e => e)\n",
    "const sortedRight = _.sortBy(right, e => e)\n",
    "const distances = sortedLeft.map((e,i) => Math.abs(e - sortedRight[i]))\n",
    "const resultA = _.sum(distances)\n",
    "console.log(resultA)"
   ]
  },
  {
   "cell_type": "code",
   "execution_count": 2,
   "metadata": {},
   "outputs": [
    {
     "name": "stdout",
     "output_type": "stream",
     "text": [
      "21790168\n"
     ]
    }
   ],
   "source": [
    "const groupedRight = _.groupBy(right, e => e)\n",
    "const frequencies = left.map(e => groupedRight[e] ? groupedRight[e].length : 0)\n",
    "const similarities = left.map((e,i) => e * frequencies[i])\n",
    "const resultB = _.sum(similarities)\n",
    "console.log(resultB)"
   ]
  }
 ],
 "metadata": {
  "kernelspec": {
   "display_name": "Deno",
   "language": "typescript",
   "name": "deno"
  },
  "language_info": {
   "codemirror_mode": "typescript",
   "file_extension": ".ts",
   "mimetype": "text/x.typescript",
   "name": "typescript",
   "nbconvert_exporter": "script",
   "pygments_lexer": "typescript",
   "version": "5.6.2"
  }
 },
 "nbformat": 4,
 "nbformat_minor": 2
}
