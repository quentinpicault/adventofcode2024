{
 "cells": [
  {
   "cell_type": "code",
   "execution_count": 15,
   "metadata": {},
   "outputs": [
    {
     "name": "stdout",
     "output_type": "stream",
     "text": [
      "202\n"
     ]
    }
   ],
   "source": [
    "import file from \"./2.json\" with { type: \"json\" };\n",
    "import * as _ from 'https://deno.land/x/lodash@4.17.15-es/lodash.js';\n",
    "\n",
    "const data = file.data\n",
    "const resultA = _.reduce(data, (sum, newReport) => {\n",
    "  const evolutions = report.map((e,i) => i === 0 ? 1 : e - report[i-1]).slice(1)\n",
    "  const hasZeros = evolutions.some(e => e === 0)\n",
    "  const hasNegatives = evolutions.some(e => e < 0)\n",
    "  const hasPositives = evolutions.some(e => e > 0)\n",
    "  const hasOutbounds = evolutions.some(e => Math.abs(e) > 3)\n",
    "  if (!(hasZeros || hasOutbounds || hasNegatives && hasPositives)) {\n",
    "    return sum += 1\n",
    "  }\n",
    "  return sum\n",
    "}, 0)\n",
    "console.log(resultA)"
   ]
  },
  {
   "cell_type": "code",
   "execution_count": 20,
   "metadata": {},
   "outputs": [
    {
     "name": "stdout",
     "output_type": "stream",
     "text": [
      "271\n"
     ]
    }
   ],
   "source": [
    "const resultB = _.reduce(data, (sum, report) => {\n",
    "  let dampered = false\n",
    "  for (let i = 0; i < report.length; i++) {\n",
    "    const newReport = report.toSpliced(i,1)\n",
    "    const evolutions = newReport.map((e,i) => i === 0 ? 1 : e - newReport[i-1]).slice(1)\n",
    "    const hasZeros = evolutions.some(e => e === 0)\n",
    "    const hasNegatives = evolutions.some(e => e < 0)\n",
    "    const hasPositives = evolutions.some(e => e > 0)\n",
    "    const hasOutbounds = evolutions.some(e => Math.abs(e) > 3)\n",
    "    if (!(hasZeros || hasOutbounds || hasNegatives && hasPositives)) {\n",
    "      dampered = true\n",
    "      break;\n",
    "    }\n",
    "  }\n",
    "  if (dampered) return sum += 1\n",
    "  return sum\n",
    "}, 0)\n",
    "console.log(resultB)"
   ]
  }
 ],
 "metadata": {
  "kernelspec": {
   "display_name": "Deno",
   "language": "typescript",
   "name": "deno"
  },
  "language_info": {
   "codemirror_mode": "typescript",
   "file_extension": ".ts",
   "mimetype": "text/x.typescript",
   "name": "typescript",
   "nbconvert_exporter": "script",
   "pygments_lexer": "typescript",
   "version": "5.6.2"
  }
 },
 "nbformat": 4,
 "nbformat_minor": 2
}
