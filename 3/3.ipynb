{
 "cells": [
  {
   "cell_type": "code",
   "execution_count": 1,
   "metadata": {},
   "outputs": [
    {
     "name": "stdout",
     "output_type": "stream",
     "text": [
      "183669043\n"
     ]
    }
   ],
   "source": [
    "import file1 from \"./3_1.json\" with { type: \"json\" };\n",
    "import file2 from \"./3_2.json\" with { type: \"json\" };\n",
    "import * as _ from 'https://deno.land/x/lodash@4.17.15-es/lodash.js';\n",
    "\n",
    "const data1 = file1.data\n",
    "const result1 = _.reduce(data1, (sum, mul) => {\n",
    "  return sum + mul[0] * mul[1]\n",
    "}, 0)\n",
    "console.log(result1)"
   ]
  },
  {
   "cell_type": "code",
   "execution_count": 2,
   "metadata": {},
   "outputs": [
    {
     "name": "stdout",
     "output_type": "stream",
     "text": [
      "59097164\n"
     ]
    }
   ],
   "source": [
    "const data2 = file2.data\n",
    "let enabler = true\n",
    "let result2 = 0\n",
    "for (const el of data2) {\n",
    "  if (el === \"don't()\"){\n",
    "    enabler = false\n",
    "    continue\n",
    "  }\n",
    "  if (el === \"do()\"){\n",
    "    enabler = true\n",
    "    continue\n",
    "  }\n",
    "  if (el[0] !== undefined && enabler){\n",
    "    result2 += el[0] * el[1]\n",
    "    continue\n",
    "  }\n",
    "}\n",
    "console.log(result2)"
   ]
  }
 ],
 "metadata": {
  "kernelspec": {
   "display_name": "Deno",
   "language": "typescript",
   "name": "deno"
  },
  "language_info": {
   "codemirror_mode": "typescript",
   "file_extension": ".ts",
   "mimetype": "text/x.typescript",
   "name": "typescript",
   "nbconvert_exporter": "script",
   "pygments_lexer": "typescript",
   "version": "5.6.2"
  }
 },
 "nbformat": 4,
 "nbformat_minor": 2
}
