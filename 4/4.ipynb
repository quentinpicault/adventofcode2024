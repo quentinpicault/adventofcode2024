{
 "cells": [
  {
   "cell_type": "code",
   "execution_count": 1,
   "metadata": {},
   "outputs": [
    {
     "name": "stdout",
     "output_type": "stream",
     "text": [
      "2414\n"
     ]
    }
   ],
   "source": [
    "import file from \"./4.json\" with { type: \"json\" };\n",
    "import * as _ from 'https://deno.land/x/lodash@4.17.15-es/lodash.js';\n",
    "\n",
    "const directions = {\n",
    "  'N':  [-1, 0],\n",
    "  'NE': [-1, 1],\n",
    "  'E':  [0, 1],\n",
    "  'SE': [1, 1],\n",
    "  'S':  [1, 0],\n",
    "  'SW': [1, -1],\n",
    "  'W':  [ 0, -1],\n",
    "  'NW': [-1, -1]\n",
    "}\n",
    "\n",
    "const findXmas = (x, y, dir, prevLetter) => {\n",
    "  if (x < 0 || x > data.length || y < 0 || y > data[0].length) return 0\n",
    "  if (data[x] === undefined) return 0\n",
    "  if (data[x][y] === 'X' && prevLetter === 'Z') {\n",
    "    let tests = {}\n",
    "    for (const d of Object.keys(directions)) {\n",
    "      const cs = directions[d]\n",
    "      tests[d] = findXmas(x + cs[0], y + cs[1], d, 'X')\n",
    "    }\n",
    "    return _.sum(Object.values(tests))\n",
    "  }\n",
    "  if (data[x][y] === 'M' && prevLetter === 'X') {\n",
    "    const c = directions[dir]\n",
    "    return findXmas(x + c[0], y + c[1], dir, 'M')\n",
    "  }\n",
    "  if (data[x][y] === 'A' && prevLetter === 'M') {\n",
    "    const c = directions[dir]\n",
    "    return findXmas(x + c[0], y + c[1], dir, 'A')\n",
    "  }\n",
    "  if (data[x][y] === 'S' && prevLetter === 'A') return 1\n",
    "  return 0\n",
    "}\n",
    "\n",
    "const data = file.data\n",
    "let result1 = 0\n",
    "for (let i = 0; i < data.length; i++) {\n",
    "  for (let j = 0; j < data[0].length; j++) {\n",
    "    if(data[i][j] === 'X') {\n",
    "      result1 += findXmas(i, j, 'N', 'Z')\n",
    "    }\n",
    "  }\n",
    "}\n",
    "console.log(result1)"
   ]
  },
  {
   "cell_type": "code",
   "execution_count": 2,
   "metadata": {},
   "outputs": [
    {
     "ename": "TypeError",
     "evalue": "Cannot read properties of undefined (reading '4')",
     "output_type": "error",
     "traceback": [
      "Stack trace:",
      "TypeError: Cannot read properties of undefined (reading '4')",
      "    at testLetter (<anonymous>:3:17)",
      "    at <anonymous>:15:11"
     ]
    }
   ],
   "source": [
    "const testLetter = (x, y) => {\n",
    "  if (x < 0 || x > data.length || y < 0 || y > data[0].length) return 'Z'\n",
    "  return data[x][y]\n",
    "}\n",
    "\n",
    "let result1 = 0\n",
    "for (let i = 0; i < data.length; i++) {\n",
    "  for (let j = 0; j < data[0].length; j++) {\n",
    "    if(testLetter(i,j) === 'X') {\n",
    "      let tests = {}\n",
    "      for (const d of Object.keys(directions)) {\n",
    "        const cs = directions[d]\n",
    "        tests[d] = [\n",
    "          testLetter(i + cs[0], j + cs[1]),\n",
    "          testLetter(i + 2 * cs[0], j + 2 * cs[1]),\n",
    "          testLetter(i + 3 * cs[0], j + 3 * cs[1])\n",
    "        ]\n",
    "        const report = Object.values(tests)\n",
    "        result1 += _.sumBy(report, el => el === ['M', 'A', 'S'] ? 1 : 0)\n",
    "      }\n",
    "    }\n",
    "  }\n",
    "}\n",
    "console.log(result1)"
   ]
  }
 ],
 "metadata": {
  "kernelspec": {
   "display_name": "Deno",
   "language": "typescript",
   "name": "deno"
  },
  "language_info": {
   "codemirror_mode": "typescript",
   "file_extension": ".ts",
   "mimetype": "text/x.typescript",
   "name": "typescript",
   "nbconvert_exporter": "script",
   "pygments_lexer": "typescript",
   "version": "5.6.2"
  }
 },
 "nbformat": 4,
 "nbformat_minor": 2
}
