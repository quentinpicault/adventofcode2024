{
 "cells": [
  {
   "cell_type": "code",
   "execution_count": 1,
   "metadata": {},
   "outputs": [
    {
     "name": "stdout",
     "output_type": "stream",
     "text": [
      "5\n"
     ]
    }
   ],
   "source": [
    "import file from \"./4.json\" with { type: \"json\" };\n",
    "import * as _ from 'https://deno.land/x/lodash@4.17.15-es/lodash.js';\n",
    "\n",
    "const directions = {\n",
    "  'N':  [-1, 0],\n",
    "  'NE': [-1, 1],\n",
    "  'E':  [0, 1],\n",
    "  'SE': [1, 1],\n",
    "  'S':  [1, 0],\n",
    "  'SW': [1, -1],\n",
    "  'W':  [ 0, -1],\n",
    "  'NW': [-1, -1]\n",
    "}\n",
    "\n",
    "const findXmas = (x, y, dir) => {\n",
    "  if (x < 0 || x > data.length || y < 0 || y > data[0].length) return 0\n",
    "  if (data[x][y] === 'X') {\n",
    "    let tests = {}\n",
    "    for (const d of Object.keys(directions)) {\n",
    "      const cs = directions[d]\n",
    "      tests[d] = findXmas(x + cs[0], y + cs[1], d)\n",
    "    }\n",
    "    return _.sum(Object.values(tests))\n",
    "  }\n",
    "  if (data[x][y] === 'M' || data[x][y] === 'A') {\n",
    "    const c = directions[dir]\n",
    "    return findXmas(x + c[0], y + c[1], dir)\n",
    "  }\n",
    "  if (data[x][y] === 'S') return 1\n",
    "  return 0\n",
    "}\n",
    "\n",
    "const data = file.data\n",
    "console.log(findXmas(0, 5, 'N'))"
   ]
  }
 ],
 "metadata": {
  "kernelspec": {
   "display_name": "Deno",
   "language": "typescript",
   "name": "deno"
  },
  "language_info": {
   "codemirror_mode": "typescript",
   "file_extension": ".ts",
   "mimetype": "text/x.typescript",
   "name": "typescript",
   "nbconvert_exporter": "script",
   "pygments_lexer": "typescript",
   "version": "5.6.2"
  }
 },
 "nbformat": 4,
 "nbformat_minor": 2
}
